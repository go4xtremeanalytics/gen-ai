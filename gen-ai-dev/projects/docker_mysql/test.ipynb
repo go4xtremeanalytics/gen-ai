{
 "cells": [
  {
   "cell_type": "code",
   "execution_count": 1,
   "metadata": {},
   "outputs": [],
   "source": [
    "import streamlit as st\n",
    "from google.oauth2 import service_account\n",
    "from google.cloud import bigquery"
   ]
  },
  {
   "cell_type": "code",
   "execution_count": 15,
   "metadata": {},
   "outputs": [],
   "source": [
    "# Create API client.\n",
    "credentials = service_account.Credentials.from_service_account_info(\n",
    "    st.secrets[\"gcp_service_account\"]\n",
    ")\n",
    "client = bigquery.Client(credentials=credentials, project=credentials.project_id)"
   ]
  },
  {
   "cell_type": "code",
   "execution_count": 18,
   "metadata": {},
   "outputs": [
    {
     "name": "stderr",
     "output_type": "stream",
     "text": [
      "2024-08-17 23:06:12.934 No runtime found, using MemoryCacheStorageManager\n"
     ]
    }
   ],
   "source": [
    "# Perform query.\n",
    "# Uses st.cache_data to only rerun when the query changes or after 10 min.\n",
    "@st.cache_data(ttl=600)\n",
    "def run_query(query):\n",
    "    query_job = client.query(query)\n",
    "    rows_raw = query_job.result()\n",
    "    # Convert to list of dicts. Required for st.cache_data to hash the return value.\n",
    "    rows = [dict(row) for row in rows_raw]\n",
    "    return rows\n",
    "\n",
    "rows = run_query(\"SELECT * FROM `ascendant-epoch-432900-m8.classicmodels.customers` LIMIT 10\")"
   ]
  },
  {
   "cell_type": "code",
   "execution_count": 19,
   "metadata": {},
   "outputs": [
    {
     "data": {
      "text/plain": [
       "[{'customerNumber': 187,\n",
       "  'customerName': 'AV Stores, Co.',\n",
       "  'contactLastName': 'Ashworth',\n",
       "  'contactFirstName': 'Rachel',\n",
       "  'phone': '(171) 555-1555',\n",
       "  'addressLine1': 'Fauntleroy Circus',\n",
       "  'addressLine2': 'NULL',\n",
       "  'city': 'Manchester',\n",
       "  'state': 'NULL',\n",
       "  'postalCode': 'EC2 5NT',\n",
       "  'country': 'UK',\n",
       "  'salesRepEmployeeNumber': '1501',\n",
       "  'creditLimit': 136800.0},\n",
       " {'customerNumber': 201,\n",
       "  'customerName': 'UK Collectables, Ltd.',\n",
       "  'contactLastName': 'Devon',\n",
       "  'contactFirstName': 'Elizabeth',\n",
       "  'phone': '(171) 555-2282',\n",
       "  'addressLine1': '12, Berkeley Gardens Blvd',\n",
       "  'addressLine2': 'NULL',\n",
       "  'city': 'Liverpool',\n",
       "  'state': 'NULL',\n",
       "  'postalCode': 'WX1 6LT',\n",
       "  'country': 'UK',\n",
       "  'salesRepEmployeeNumber': '1501',\n",
       "  'creditLimit': 92700.0},\n",
       " {'customerNumber': 240,\n",
       "  'customerName': 'giftsbymail.co.uk',\n",
       "  'contactLastName': 'Bennett',\n",
       "  'contactFirstName': 'Helen ',\n",
       "  'phone': '(198) 555-8888',\n",
       "  'addressLine1': 'Garden House',\n",
       "  'addressLine2': 'Crowther Way 23',\n",
       "  'city': 'Cowes',\n",
       "  'state': 'Isle of Wight',\n",
       "  'postalCode': 'PO31 7PJ',\n",
       "  'country': 'UK',\n",
       "  'salesRepEmployeeNumber': '1501',\n",
       "  'creditLimit': 93900.0},\n",
       " {'customerNumber': 324,\n",
       "  'customerName': 'Stylish Desk Decors, Co.',\n",
       "  'contactLastName': 'Brown',\n",
       "  'contactFirstName': 'Ann ',\n",
       "  'phone': '(171) 555-0297',\n",
       "  'addressLine1': '35 King George',\n",
       "  'addressLine2': 'NULL',\n",
       "  'city': 'London',\n",
       "  'state': 'NULL',\n",
       "  'postalCode': 'WX3 6FW',\n",
       "  'country': 'UK',\n",
       "  'salesRepEmployeeNumber': '1501',\n",
       "  'creditLimit': 77000.0},\n",
       " {'customerNumber': 489,\n",
       "  'customerName': 'Double Decker Gift Stores, Ltd',\n",
       "  'contactLastName': 'Smith',\n",
       "  'contactFirstName': 'Thomas ',\n",
       "  'phone': '(171) 555-7555',\n",
       "  'addressLine1': '120 Hanover Sq.',\n",
       "  'addressLine2': 'NULL',\n",
       "  'city': 'London',\n",
       "  'state': 'NULL',\n",
       "  'postalCode': 'WA1 1DP',\n",
       "  'country': 'UK',\n",
       "  'salesRepEmployeeNumber': '1501',\n",
       "  'creditLimit': 43300.0},\n",
       " {'customerNumber': 124,\n",
       "  'customerName': 'Mini Gifts Distributors Ltd.',\n",
       "  'contactLastName': 'Nelson',\n",
       "  'contactFirstName': 'Susan',\n",
       "  'phone': '4155551450',\n",
       "  'addressLine1': '5677 Strong St.',\n",
       "  'addressLine2': 'NULL',\n",
       "  'city': 'San Rafael',\n",
       "  'state': 'CA',\n",
       "  'postalCode': '97562',\n",
       "  'country': 'USA',\n",
       "  'salesRepEmployeeNumber': '1165',\n",
       "  'creditLimit': 210500.0},\n",
       " {'customerNumber': 129,\n",
       "  'customerName': 'Mini Wheels Co.',\n",
       "  'contactLastName': 'Murphy',\n",
       "  'contactFirstName': 'Julie',\n",
       "  'phone': '6505555787',\n",
       "  'addressLine1': '5557 North Pendale Street',\n",
       "  'addressLine2': 'NULL',\n",
       "  'city': 'San Francisco',\n",
       "  'state': 'CA',\n",
       "  'postalCode': '94217',\n",
       "  'country': 'USA',\n",
       "  'salesRepEmployeeNumber': '1165',\n",
       "  'creditLimit': 64600.0},\n",
       " {'customerNumber': 161,\n",
       "  'customerName': 'Technics Stores Inc.',\n",
       "  'contactLastName': 'Hashimoto',\n",
       "  'contactFirstName': 'Juri',\n",
       "  'phone': '6505556809',\n",
       "  'addressLine1': '9408 Furth Circle',\n",
       "  'addressLine2': 'NULL',\n",
       "  'city': 'Burlingame',\n",
       "  'state': 'CA',\n",
       "  'postalCode': '94217',\n",
       "  'country': 'USA',\n",
       "  'salesRepEmployeeNumber': '1165',\n",
       "  'creditLimit': 84600.0},\n",
       " {'customerNumber': 321,\n",
       "  'customerName': 'Corporate Gift Ideas Co.',\n",
       "  'contactLastName': 'Brown',\n",
       "  'contactFirstName': 'Julie',\n",
       "  'phone': '6505551386',\n",
       "  'addressLine1': '7734 Strong St.',\n",
       "  'addressLine2': 'NULL',\n",
       "  'city': 'San Francisco',\n",
       "  'state': 'CA',\n",
       "  'postalCode': '94217',\n",
       "  'country': 'USA',\n",
       "  'salesRepEmployeeNumber': '1165',\n",
       "  'creditLimit': 105000.0},\n",
       " {'customerNumber': 450,\n",
       "  'customerName': 'The Sharp Gifts Warehouse',\n",
       "  'contactLastName': 'Frick',\n",
       "  'contactFirstName': 'Sue',\n",
       "  'phone': '4085553659',\n",
       "  'addressLine1': '3086 Ingle Ln.',\n",
       "  'addressLine2': 'NULL',\n",
       "  'city': 'San Jose',\n",
       "  'state': 'CA',\n",
       "  'postalCode': '94217',\n",
       "  'country': 'USA',\n",
       "  'salesRepEmployeeNumber': '1165',\n",
       "  'creditLimit': 77600.0}]"
      ]
     },
     "execution_count": 19,
     "metadata": {},
     "output_type": "execute_result"
    }
   ],
   "source": [
    "rows"
   ]
  },
  {
   "cell_type": "code",
   "execution_count": 20,
   "metadata": {},
   "outputs": [],
   "source": [
    "# Print results.\n",
    "st.write(\"Some wise words from Shakespeare:\")\n",
    "for row in rows:\n",
    "    st.write(\"✍️ \" + row['customerName'])"
   ]
  },
  {
   "cell_type": "code",
   "execution_count": null,
   "metadata": {},
   "outputs": [],
   "source": []
  },
  {
   "cell_type": "code",
   "execution_count": null,
   "metadata": {},
   "outputs": [],
   "source": []
  },
  {
   "cell_type": "code",
   "execution_count": null,
   "metadata": {},
   "outputs": [],
   "source": []
  },
  {
   "cell_type": "code",
   "execution_count": null,
   "metadata": {},
   "outputs": [],
   "source": []
  },
  {
   "cell_type": "code",
   "execution_count": null,
   "metadata": {},
   "outputs": [],
   "source": []
  },
  {
   "cell_type": "code",
   "execution_count": null,
   "metadata": {},
   "outputs": [],
   "source": []
  },
  {
   "cell_type": "code",
   "execution_count": null,
   "metadata": {},
   "outputs": [],
   "source": []
  },
  {
   "cell_type": "code",
   "execution_count": 4,
   "metadata": {},
   "outputs": [
    {
     "name": "stderr",
     "output_type": "stream",
     "text": [
      "2024-08-17 21:58:37.393 WARNING streamlit.runtime.caching.cache_data_api: No runtime found, using MemoryCacheStorageManager\n",
      "2024-08-17 21:58:38.438 \n",
      "  \u001b[33m\u001b[1mWarning:\u001b[0m to view this Streamlit app on a browser, run it with the following\n",
      "  command:\n",
      "\n",
      "    streamlit run c:\\Users\\venka\\.virtualenvs\\r-reticulate\\Lib\\site-packages\\ipykernel_launcher.py [ARGUMENTS]\n",
      "2024-08-17 21:58:38.439 No runtime found, using MemoryCacheStorageManager\n"
     ]
    },
    {
     "ename": "Forbidden",
     "evalue": "403 Access Denied: Table ascendant-epoch-432900-m8:classicmodels.customers: User does not have permission to query table ascendant-epoch-432900-m8:classicmodels.customers, or perhaps it does not exist.; reason: accessDenied, message: Access Denied: Table ascendant-epoch-432900-m8:classicmodels.customers: User does not have permission to query table ascendant-epoch-432900-m8:classicmodels.customers, or perhaps it does not exist.\n\nLocation: US\nJob ID: 4658c33d-1bd7-4338-b002-3a795f4904a1\n",
     "output_type": "error",
     "traceback": [
      "\u001b[1;31m---------------------------------------------------------------------------\u001b[0m",
      "\u001b[1;31mForbidden\u001b[0m                                 Traceback (most recent call last)",
      "Cell \u001b[1;32mIn[4], line 11\u001b[0m\n\u001b[0;32m      8\u001b[0m     rows \u001b[38;5;241m=\u001b[39m [\u001b[38;5;28mdict\u001b[39m(row) \u001b[38;5;28;01mfor\u001b[39;00m row \u001b[38;5;129;01min\u001b[39;00m rows_raw]\n\u001b[0;32m      9\u001b[0m     \u001b[38;5;28;01mreturn\u001b[39;00m rows\n\u001b[1;32m---> 11\u001b[0m rows \u001b[38;5;241m=\u001b[39m \u001b[43mrun_query\u001b[49m\u001b[43m(\u001b[49m\u001b[38;5;124;43m\"\u001b[39;49m\u001b[38;5;124;43mSELECT word FROM `ascendant-epoch-432900-m8.classicmodels.customers` LIMIT 10\u001b[39;49m\u001b[38;5;124;43m\"\u001b[39;49m\u001b[43m)\u001b[49m\n",
      "File \u001b[1;32mc:\\Users\\venka\\.virtualenvs\\r-reticulate\\Lib\\site-packages\\streamlit\\runtime\\caching\\cache_utils.py:168\u001b[0m, in \u001b[0;36mmake_cached_func_wrapper.<locals>.wrapper\u001b[1;34m(*args, **kwargs)\u001b[0m\n\u001b[0;32m    166\u001b[0m \u001b[38;5;129m@functools\u001b[39m\u001b[38;5;241m.\u001b[39mwraps(info\u001b[38;5;241m.\u001b[39mfunc)\n\u001b[0;32m    167\u001b[0m \u001b[38;5;28;01mdef\u001b[39;00m \u001b[38;5;21mwrapper\u001b[39m(\u001b[38;5;241m*\u001b[39margs, \u001b[38;5;241m*\u001b[39m\u001b[38;5;241m*\u001b[39mkwargs):\n\u001b[1;32m--> 168\u001b[0m     \u001b[38;5;28;01mreturn\u001b[39;00m \u001b[43mcached_func\u001b[49m\u001b[43m(\u001b[49m\u001b[38;5;241;43m*\u001b[39;49m\u001b[43margs\u001b[49m\u001b[43m,\u001b[49m\u001b[43m \u001b[49m\u001b[38;5;241;43m*\u001b[39;49m\u001b[38;5;241;43m*\u001b[39;49m\u001b[43mkwargs\u001b[49m\u001b[43m)\u001b[49m\n",
      "File \u001b[1;32mc:\\Users\\venka\\.virtualenvs\\r-reticulate\\Lib\\site-packages\\streamlit\\runtime\\caching\\cache_utils.py:197\u001b[0m, in \u001b[0;36mCachedFunc.__call__\u001b[1;34m(self, *args, **kwargs)\u001b[0m\n\u001b[0;32m    195\u001b[0m \u001b[38;5;28;01mif\u001b[39;00m \u001b[38;5;28mself\u001b[39m\u001b[38;5;241m.\u001b[39m_info\u001b[38;5;241m.\u001b[39mshow_spinner \u001b[38;5;129;01mor\u001b[39;00m \u001b[38;5;28misinstance\u001b[39m(\u001b[38;5;28mself\u001b[39m\u001b[38;5;241m.\u001b[39m_info\u001b[38;5;241m.\u001b[39mshow_spinner, \u001b[38;5;28mstr\u001b[39m):\n\u001b[0;32m    196\u001b[0m     \u001b[38;5;28;01mwith\u001b[39;00m spinner(message, _cache\u001b[38;5;241m=\u001b[39m\u001b[38;5;28;01mTrue\u001b[39;00m):\n\u001b[1;32m--> 197\u001b[0m         \u001b[38;5;28;01mreturn\u001b[39;00m \u001b[38;5;28;43mself\u001b[39;49m\u001b[38;5;241;43m.\u001b[39;49m\u001b[43m_get_or_create_cached_value\u001b[49m\u001b[43m(\u001b[49m\u001b[43margs\u001b[49m\u001b[43m,\u001b[49m\u001b[43m \u001b[49m\u001b[43mkwargs\u001b[49m\u001b[43m)\u001b[49m\n\u001b[0;32m    198\u001b[0m \u001b[38;5;28;01melse\u001b[39;00m:\n\u001b[0;32m    199\u001b[0m     \u001b[38;5;28;01mreturn\u001b[39;00m \u001b[38;5;28mself\u001b[39m\u001b[38;5;241m.\u001b[39m_get_or_create_cached_value(args, kwargs)\n",
      "File \u001b[1;32mc:\\Users\\venka\\.virtualenvs\\r-reticulate\\Lib\\site-packages\\streamlit\\runtime\\caching\\cache_utils.py:224\u001b[0m, in \u001b[0;36mCachedFunc._get_or_create_cached_value\u001b[1;34m(self, func_args, func_kwargs)\u001b[0m\n\u001b[0;32m    222\u001b[0m \u001b[38;5;28;01mexcept\u001b[39;00m CacheKeyNotFoundError:\n\u001b[0;32m    223\u001b[0m     \u001b[38;5;28;01mpass\u001b[39;00m\n\u001b[1;32m--> 224\u001b[0m \u001b[38;5;28;01mreturn\u001b[39;00m \u001b[38;5;28;43mself\u001b[39;49m\u001b[38;5;241;43m.\u001b[39;49m\u001b[43m_handle_cache_miss\u001b[49m\u001b[43m(\u001b[49m\u001b[43mcache\u001b[49m\u001b[43m,\u001b[49m\u001b[43m \u001b[49m\u001b[43mvalue_key\u001b[49m\u001b[43m,\u001b[49m\u001b[43m \u001b[49m\u001b[43mfunc_args\u001b[49m\u001b[43m,\u001b[49m\u001b[43m \u001b[49m\u001b[43mfunc_kwargs\u001b[49m\u001b[43m)\u001b[49m\n",
      "File \u001b[1;32mc:\\Users\\venka\\.virtualenvs\\r-reticulate\\Lib\\site-packages\\streamlit\\runtime\\caching\\cache_utils.py:280\u001b[0m, in \u001b[0;36mCachedFunc._handle_cache_miss\u001b[1;34m(self, cache, value_key, func_args, func_kwargs)\u001b[0m\n\u001b[0;32m    276\u001b[0m \u001b[38;5;66;03m# We acquired the lock before any other thread. Compute the value!\u001b[39;00m\n\u001b[0;32m    277\u001b[0m \u001b[38;5;28;01mwith\u001b[39;00m \u001b[38;5;28mself\u001b[39m\u001b[38;5;241m.\u001b[39m_info\u001b[38;5;241m.\u001b[39mcached_message_replay_ctx\u001b[38;5;241m.\u001b[39mcalling_cached_function(\n\u001b[0;32m    278\u001b[0m     \u001b[38;5;28mself\u001b[39m\u001b[38;5;241m.\u001b[39m_info\u001b[38;5;241m.\u001b[39mfunc, \u001b[38;5;28mself\u001b[39m\u001b[38;5;241m.\u001b[39m_info\u001b[38;5;241m.\u001b[39mallow_widgets\n\u001b[0;32m    279\u001b[0m ):\n\u001b[1;32m--> 280\u001b[0m     computed_value \u001b[38;5;241m=\u001b[39m \u001b[38;5;28;43mself\u001b[39;49m\u001b[38;5;241;43m.\u001b[39;49m\u001b[43m_info\u001b[49m\u001b[38;5;241;43m.\u001b[39;49m\u001b[43mfunc\u001b[49m\u001b[43m(\u001b[49m\u001b[38;5;241;43m*\u001b[39;49m\u001b[43mfunc_args\u001b[49m\u001b[43m,\u001b[49m\u001b[43m \u001b[49m\u001b[38;5;241;43m*\u001b[39;49m\u001b[38;5;241;43m*\u001b[39;49m\u001b[43mfunc_kwargs\u001b[49m\u001b[43m)\u001b[49m\n\u001b[0;32m    282\u001b[0m \u001b[38;5;66;03m# We've computed our value, and now we need to write it back to the cache\u001b[39;00m\n\u001b[0;32m    283\u001b[0m \u001b[38;5;66;03m# along with any \"replay messages\" that were generated during value computation.\u001b[39;00m\n\u001b[0;32m    284\u001b[0m messages \u001b[38;5;241m=\u001b[39m \u001b[38;5;28mself\u001b[39m\u001b[38;5;241m.\u001b[39m_info\u001b[38;5;241m.\u001b[39mcached_message_replay_ctx\u001b[38;5;241m.\u001b[39m_most_recent_messages\n",
      "Cell \u001b[1;32mIn[4], line 6\u001b[0m, in \u001b[0;36mrun_query\u001b[1;34m(query)\u001b[0m\n\u001b[0;32m      3\u001b[0m \u001b[38;5;129m@st\u001b[39m\u001b[38;5;241m.\u001b[39mcache_data(ttl\u001b[38;5;241m=\u001b[39m\u001b[38;5;241m600\u001b[39m)\n\u001b[0;32m      4\u001b[0m \u001b[38;5;28;01mdef\u001b[39;00m \u001b[38;5;21mrun_query\u001b[39m(query):\n\u001b[0;32m      5\u001b[0m     query_job \u001b[38;5;241m=\u001b[39m client\u001b[38;5;241m.\u001b[39mquery(query)\n\u001b[1;32m----> 6\u001b[0m     rows_raw \u001b[38;5;241m=\u001b[39m \u001b[43mquery_job\u001b[49m\u001b[38;5;241;43m.\u001b[39;49m\u001b[43mresult\u001b[49m\u001b[43m(\u001b[49m\u001b[43m)\u001b[49m\n\u001b[0;32m      7\u001b[0m     \u001b[38;5;66;03m# Convert to list of dicts. Required for st.cache_data to hash the return value.\u001b[39;00m\n\u001b[0;32m      8\u001b[0m     rows \u001b[38;5;241m=\u001b[39m [\u001b[38;5;28mdict\u001b[39m(row) \u001b[38;5;28;01mfor\u001b[39;00m row \u001b[38;5;129;01min\u001b[39;00m rows_raw]\n",
      "File \u001b[1;32mc:\\Users\\venka\\.virtualenvs\\r-reticulate\\Lib\\site-packages\\google\\cloud\\bigquery\\job\\query.py:1676\u001b[0m, in \u001b[0;36mQueryJob.result\u001b[1;34m(self, page_size, max_results, retry, timeout, start_index, job_retry)\u001b[0m\n\u001b[0;32m   1671\u001b[0m     remaining_timeout \u001b[38;5;241m=\u001b[39m \u001b[38;5;28;01mNone\u001b[39;00m\n\u001b[0;32m   1673\u001b[0m \u001b[38;5;28;01mif\u001b[39;00m remaining_timeout \u001b[38;5;129;01mis\u001b[39;00m \u001b[38;5;28;01mNone\u001b[39;00m:\n\u001b[0;32m   1674\u001b[0m     \u001b[38;5;66;03m# Since is_job_done() calls jobs.getQueryResults, which is a\u001b[39;00m\n\u001b[0;32m   1675\u001b[0m     \u001b[38;5;66;03m# long-running API, don't delay the next request at all.\u001b[39;00m\n\u001b[1;32m-> 1676\u001b[0m     \u001b[38;5;28;01mwhile\u001b[39;00m \u001b[38;5;129;01mnot\u001b[39;00m \u001b[43mis_job_done\u001b[49m\u001b[43m(\u001b[49m\u001b[43m)\u001b[49m:\n\u001b[0;32m   1677\u001b[0m         \u001b[38;5;28;01mpass\u001b[39;00m\n\u001b[0;32m   1678\u001b[0m \u001b[38;5;28;01melse\u001b[39;00m:\n\u001b[0;32m   1679\u001b[0m     \u001b[38;5;66;03m# Use a monotonic clock since we don't actually care about\u001b[39;00m\n\u001b[0;32m   1680\u001b[0m     \u001b[38;5;66;03m# daylight savings or similar, just the elapsed time.\u001b[39;00m\n",
      "File \u001b[1;32mc:\\Users\\venka\\.virtualenvs\\r-reticulate\\Lib\\site-packages\\google\\api_core\\retry\\retry_unary.py:293\u001b[0m, in \u001b[0;36mRetry.__call__.<locals>.retry_wrapped_func\u001b[1;34m(*args, **kwargs)\u001b[0m\n\u001b[0;32m    289\u001b[0m target \u001b[38;5;241m=\u001b[39m functools\u001b[38;5;241m.\u001b[39mpartial(func, \u001b[38;5;241m*\u001b[39margs, \u001b[38;5;241m*\u001b[39m\u001b[38;5;241m*\u001b[39mkwargs)\n\u001b[0;32m    290\u001b[0m sleep_generator \u001b[38;5;241m=\u001b[39m exponential_sleep_generator(\n\u001b[0;32m    291\u001b[0m     \u001b[38;5;28mself\u001b[39m\u001b[38;5;241m.\u001b[39m_initial, \u001b[38;5;28mself\u001b[39m\u001b[38;5;241m.\u001b[39m_maximum, multiplier\u001b[38;5;241m=\u001b[39m\u001b[38;5;28mself\u001b[39m\u001b[38;5;241m.\u001b[39m_multiplier\n\u001b[0;32m    292\u001b[0m )\n\u001b[1;32m--> 293\u001b[0m \u001b[38;5;28;01mreturn\u001b[39;00m \u001b[43mretry_target\u001b[49m\u001b[43m(\u001b[49m\n\u001b[0;32m    294\u001b[0m \u001b[43m    \u001b[49m\u001b[43mtarget\u001b[49m\u001b[43m,\u001b[49m\n\u001b[0;32m    295\u001b[0m \u001b[43m    \u001b[49m\u001b[38;5;28;43mself\u001b[39;49m\u001b[38;5;241;43m.\u001b[39;49m\u001b[43m_predicate\u001b[49m\u001b[43m,\u001b[49m\n\u001b[0;32m    296\u001b[0m \u001b[43m    \u001b[49m\u001b[43msleep_generator\u001b[49m\u001b[43m,\u001b[49m\n\u001b[0;32m    297\u001b[0m \u001b[43m    \u001b[49m\u001b[43mtimeout\u001b[49m\u001b[38;5;241;43m=\u001b[39;49m\u001b[38;5;28;43mself\u001b[39;49m\u001b[38;5;241;43m.\u001b[39;49m\u001b[43m_timeout\u001b[49m\u001b[43m,\u001b[49m\n\u001b[0;32m    298\u001b[0m \u001b[43m    \u001b[49m\u001b[43mon_error\u001b[49m\u001b[38;5;241;43m=\u001b[39;49m\u001b[43mon_error\u001b[49m\u001b[43m,\u001b[49m\n\u001b[0;32m    299\u001b[0m \u001b[43m\u001b[49m\u001b[43m)\u001b[49m\n",
      "File \u001b[1;32mc:\\Users\\venka\\.virtualenvs\\r-reticulate\\Lib\\site-packages\\google\\api_core\\retry\\retry_unary.py:153\u001b[0m, in \u001b[0;36mretry_target\u001b[1;34m(target, predicate, sleep_generator, timeout, on_error, exception_factory, **kwargs)\u001b[0m\n\u001b[0;32m    149\u001b[0m \u001b[38;5;66;03m# pylint: disable=broad-except\u001b[39;00m\n\u001b[0;32m    150\u001b[0m \u001b[38;5;66;03m# This function explicitly must deal with broad exceptions.\u001b[39;00m\n\u001b[0;32m    151\u001b[0m \u001b[38;5;28;01mexcept\u001b[39;00m \u001b[38;5;167;01mException\u001b[39;00m \u001b[38;5;28;01mas\u001b[39;00m exc:\n\u001b[0;32m    152\u001b[0m     \u001b[38;5;66;03m# defer to shared logic for handling errors\u001b[39;00m\n\u001b[1;32m--> 153\u001b[0m     \u001b[43m_retry_error_helper\u001b[49m\u001b[43m(\u001b[49m\n\u001b[0;32m    154\u001b[0m \u001b[43m        \u001b[49m\u001b[43mexc\u001b[49m\u001b[43m,\u001b[49m\n\u001b[0;32m    155\u001b[0m \u001b[43m        \u001b[49m\u001b[43mdeadline\u001b[49m\u001b[43m,\u001b[49m\n\u001b[0;32m    156\u001b[0m \u001b[43m        \u001b[49m\u001b[43msleep\u001b[49m\u001b[43m,\u001b[49m\n\u001b[0;32m    157\u001b[0m \u001b[43m        \u001b[49m\u001b[43merror_list\u001b[49m\u001b[43m,\u001b[49m\n\u001b[0;32m    158\u001b[0m \u001b[43m        \u001b[49m\u001b[43mpredicate\u001b[49m\u001b[43m,\u001b[49m\n\u001b[0;32m    159\u001b[0m \u001b[43m        \u001b[49m\u001b[43mon_error\u001b[49m\u001b[43m,\u001b[49m\n\u001b[0;32m    160\u001b[0m \u001b[43m        \u001b[49m\u001b[43mexception_factory\u001b[49m\u001b[43m,\u001b[49m\n\u001b[0;32m    161\u001b[0m \u001b[43m        \u001b[49m\u001b[43mtimeout\u001b[49m\u001b[43m,\u001b[49m\n\u001b[0;32m    162\u001b[0m \u001b[43m    \u001b[49m\u001b[43m)\u001b[49m\n\u001b[0;32m    163\u001b[0m     \u001b[38;5;66;03m# if exception not raised, sleep before next attempt\u001b[39;00m\n\u001b[0;32m    164\u001b[0m     time\u001b[38;5;241m.\u001b[39msleep(sleep)\n",
      "File \u001b[1;32mc:\\Users\\venka\\.virtualenvs\\r-reticulate\\Lib\\site-packages\\google\\api_core\\retry\\retry_base.py:212\u001b[0m, in \u001b[0;36m_retry_error_helper\u001b[1;34m(exc, deadline, next_sleep, error_list, predicate_fn, on_error_fn, exc_factory_fn, original_timeout)\u001b[0m\n\u001b[0;32m    206\u001b[0m \u001b[38;5;28;01mif\u001b[39;00m \u001b[38;5;129;01mnot\u001b[39;00m predicate_fn(exc):\n\u001b[0;32m    207\u001b[0m     final_exc, source_exc \u001b[38;5;241m=\u001b[39m exc_factory_fn(\n\u001b[0;32m    208\u001b[0m         error_list,\n\u001b[0;32m    209\u001b[0m         RetryFailureReason\u001b[38;5;241m.\u001b[39mNON_RETRYABLE_ERROR,\n\u001b[0;32m    210\u001b[0m         original_timeout,\n\u001b[0;32m    211\u001b[0m     )\n\u001b[1;32m--> 212\u001b[0m     \u001b[38;5;28;01mraise\u001b[39;00m final_exc \u001b[38;5;28;01mfrom\u001b[39;00m \u001b[38;5;21;01msource_exc\u001b[39;00m\n\u001b[0;32m    213\u001b[0m \u001b[38;5;28;01mif\u001b[39;00m on_error_fn \u001b[38;5;129;01mis\u001b[39;00m \u001b[38;5;129;01mnot\u001b[39;00m \u001b[38;5;28;01mNone\u001b[39;00m:\n\u001b[0;32m    214\u001b[0m     on_error_fn(exc)\n",
      "File \u001b[1;32mc:\\Users\\venka\\.virtualenvs\\r-reticulate\\Lib\\site-packages\\google\\api_core\\retry\\retry_unary.py:144\u001b[0m, in \u001b[0;36mretry_target\u001b[1;34m(target, predicate, sleep_generator, timeout, on_error, exception_factory, **kwargs)\u001b[0m\n\u001b[0;32m    142\u001b[0m \u001b[38;5;28;01mfor\u001b[39;00m sleep \u001b[38;5;129;01min\u001b[39;00m sleep_generator:\n\u001b[0;32m    143\u001b[0m     \u001b[38;5;28;01mtry\u001b[39;00m:\n\u001b[1;32m--> 144\u001b[0m         result \u001b[38;5;241m=\u001b[39m \u001b[43mtarget\u001b[49m\u001b[43m(\u001b[49m\u001b[43m)\u001b[49m\n\u001b[0;32m    145\u001b[0m         \u001b[38;5;28;01mif\u001b[39;00m inspect\u001b[38;5;241m.\u001b[39misawaitable(result):\n\u001b[0;32m    146\u001b[0m             warnings\u001b[38;5;241m.\u001b[39mwarn(_ASYNC_RETRY_WARNING)\n",
      "File \u001b[1;32mc:\\Users\\venka\\.virtualenvs\\r-reticulate\\Lib\\site-packages\\google\\cloud\\bigquery\\job\\query.py:1625\u001b[0m, in \u001b[0;36mQueryJob.result.<locals>.is_job_done\u001b[1;34m()\u001b[0m\n\u001b[0;32m   1602\u001b[0m \u001b[38;5;28;01mif\u001b[39;00m job_failed_exception \u001b[38;5;129;01mis\u001b[39;00m \u001b[38;5;129;01mnot\u001b[39;00m \u001b[38;5;28;01mNone\u001b[39;00m:\n\u001b[0;32m   1603\u001b[0m     \u001b[38;5;66;03m# Only try to restart the query job if the job failed for\u001b[39;00m\n\u001b[0;32m   1604\u001b[0m     \u001b[38;5;66;03m# a retriable reason. For example, don't restart the query\u001b[39;00m\n\u001b[1;32m   (...)\u001b[0m\n\u001b[0;32m   1622\u001b[0m     \u001b[38;5;66;03m# into an exception that can be processed by the\u001b[39;00m\n\u001b[0;32m   1623\u001b[0m     \u001b[38;5;66;03m# `job_retry` predicate.\u001b[39;00m\n\u001b[0;32m   1624\u001b[0m     restart_query_job \u001b[38;5;241m=\u001b[39m \u001b[38;5;28;01mTrue\u001b[39;00m\n\u001b[1;32m-> 1625\u001b[0m     \u001b[38;5;28;01mraise\u001b[39;00m job_failed_exception\n\u001b[0;32m   1626\u001b[0m \u001b[38;5;28;01melse\u001b[39;00m:\n\u001b[0;32m   1627\u001b[0m     \u001b[38;5;66;03m# Make sure that the _query_results are cached so we\u001b[39;00m\n\u001b[0;32m   1628\u001b[0m     \u001b[38;5;66;03m# can return a complete RowIterator.\u001b[39;00m\n\u001b[1;32m   (...)\u001b[0m\n\u001b[0;32m   1634\u001b[0m     \u001b[38;5;66;03m# making any extra API calls if the previous loop\u001b[39;00m\n\u001b[0;32m   1635\u001b[0m     \u001b[38;5;66;03m# iteration fetched the finished job.\u001b[39;00m\n\u001b[0;32m   1636\u001b[0m     \u001b[38;5;28mself\u001b[39m\u001b[38;5;241m.\u001b[39m_reload_query_results(\n\u001b[0;32m   1637\u001b[0m         retry\u001b[38;5;241m=\u001b[39mretry, \u001b[38;5;241m*\u001b[39m\u001b[38;5;241m*\u001b[39mreload_query_results_kwargs\n\u001b[0;32m   1638\u001b[0m     )\n",
      "\u001b[1;31mForbidden\u001b[0m: 403 Access Denied: Table ascendant-epoch-432900-m8:classicmodels.customers: User does not have permission to query table ascendant-epoch-432900-m8:classicmodels.customers, or perhaps it does not exist.; reason: accessDenied, message: Access Denied: Table ascendant-epoch-432900-m8:classicmodels.customers: User does not have permission to query table ascendant-epoch-432900-m8:classicmodels.customers, or perhaps it does not exist.\n\nLocation: US\nJob ID: 4658c33d-1bd7-4338-b002-3a795f4904a1\n"
     ]
    }
   ],
   "source": [
    "# Perform query.\n",
    "# Uses st.cache_data to only rerun when the query changes or after 10 min.\n",
    "@st.cache_data(ttl=600)\n",
    "def run_query(query):\n",
    "    query_job = client.query(query)\n",
    "    rows_raw = query_job.result()\n",
    "    # Convert to list of dicts. Required for st.cache_data to hash the return value.\n",
    "    rows = [dict(row) for row in rows_raw]\n",
    "    return rows\n",
    "\n",
    "rows = run_query(\"SELECT word FROM `ascendant-epoch-432900-m8.classicmodels.customers` LIMIT 10\")"
   ]
  },
  {
   "cell_type": "code",
   "execution_count": null,
   "metadata": {},
   "outputs": [],
   "source": []
  },
  {
   "cell_type": "code",
   "execution_count": null,
   "metadata": {},
   "outputs": [],
   "source": []
  },
  {
   "cell_type": "code",
   "execution_count": null,
   "metadata": {},
   "outputs": [],
   "source": []
  },
  {
   "cell_type": "code",
   "execution_count": 7,
   "metadata": {},
   "outputs": [],
   "source": [
    "# Path to your service account key file\n",
    "key_path = \"elegant-moment-265021-f5b7b73ce553.json\"\n",
    "\n",
    "\n",
    "\n"
   ]
  },
  {
   "cell_type": "code",
   "execution_count": 9,
   "metadata": {},
   "outputs": [],
   "source": [
    "# Create credentials using the service account key file\n",
    "credentials = service_account.Credentials.from_service_account_file(key_path)\n"
   ]
  },
  {
   "cell_type": "code",
   "execution_count": 11,
   "metadata": {},
   "outputs": [],
   "source": [
    "# Initialize the BigQuery client with the credentials\n",
    "client = bigquery.Client(credentials=credentials, project=credentials.project_id)\n",
    "\n",
    "# Example query to test access\n",
    "query = \"\"\"\n",
    "SELECT *\n",
    "FROM `ascendant-epoch-432900-m8.classicmodels.customers`\n",
    "LIMIT 10\n",
    "\"\"\""
   ]
  },
  {
   "cell_type": "code",
   "execution_count": 12,
   "metadata": {},
   "outputs": [],
   "source": [
    "# Run the query\n",
    "query_job = client.query(query)\n",
    "results = query_job.result()\n"
   ]
  },
  {
   "cell_type": "code",
   "execution_count": 13,
   "metadata": {},
   "outputs": [
    {
     "data": {
      "text/plain": [
       "<google.cloud.bigquery.table.RowIterator at 0x23df4209450>"
      ]
     },
     "execution_count": 13,
     "metadata": {},
     "output_type": "execute_result"
    }
   ],
   "source": [
    "results"
   ]
  },
  {
   "cell_type": "code",
   "execution_count": 14,
   "metadata": {},
   "outputs": [
    {
     "name": "stdout",
     "output_type": "stream",
     "text": [
      "Row((187, 'AV Stores, Co.', 'Ashworth', 'Rachel', '(171) 555-1555', 'Fauntleroy Circus', 'NULL', 'Manchester', 'NULL', 'EC2 5NT', 'UK', '1501', 136800.0), {'customerNumber': 0, 'customerName': 1, 'contactLastName': 2, 'contactFirstName': 3, 'phone': 4, 'addressLine1': 5, 'addressLine2': 6, 'city': 7, 'state': 8, 'postalCode': 9, 'country': 10, 'salesRepEmployeeNumber': 11, 'creditLimit': 12})\n",
      "Row((201, 'UK Collectables, Ltd.', 'Devon', 'Elizabeth', '(171) 555-2282', '12, Berkeley Gardens Blvd', 'NULL', 'Liverpool', 'NULL', 'WX1 6LT', 'UK', '1501', 92700.0), {'customerNumber': 0, 'customerName': 1, 'contactLastName': 2, 'contactFirstName': 3, 'phone': 4, 'addressLine1': 5, 'addressLine2': 6, 'city': 7, 'state': 8, 'postalCode': 9, 'country': 10, 'salesRepEmployeeNumber': 11, 'creditLimit': 12})\n",
      "Row((240, 'giftsbymail.co.uk', 'Bennett', 'Helen ', '(198) 555-8888', 'Garden House', 'Crowther Way 23', 'Cowes', 'Isle of Wight', 'PO31 7PJ', 'UK', '1501', 93900.0), {'customerNumber': 0, 'customerName': 1, 'contactLastName': 2, 'contactFirstName': 3, 'phone': 4, 'addressLine1': 5, 'addressLine2': 6, 'city': 7, 'state': 8, 'postalCode': 9, 'country': 10, 'salesRepEmployeeNumber': 11, 'creditLimit': 12})\n",
      "Row((324, 'Stylish Desk Decors, Co.', 'Brown', 'Ann ', '(171) 555-0297', '35 King George', 'NULL', 'London', 'NULL', 'WX3 6FW', 'UK', '1501', 77000.0), {'customerNumber': 0, 'customerName': 1, 'contactLastName': 2, 'contactFirstName': 3, 'phone': 4, 'addressLine1': 5, 'addressLine2': 6, 'city': 7, 'state': 8, 'postalCode': 9, 'country': 10, 'salesRepEmployeeNumber': 11, 'creditLimit': 12})\n",
      "Row((489, 'Double Decker Gift Stores, Ltd', 'Smith', 'Thomas ', '(171) 555-7555', '120 Hanover Sq.', 'NULL', 'London', 'NULL', 'WA1 1DP', 'UK', '1501', 43300.0), {'customerNumber': 0, 'customerName': 1, 'contactLastName': 2, 'contactFirstName': 3, 'phone': 4, 'addressLine1': 5, 'addressLine2': 6, 'city': 7, 'state': 8, 'postalCode': 9, 'country': 10, 'salesRepEmployeeNumber': 11, 'creditLimit': 12})\n",
      "Row((124, 'Mini Gifts Distributors Ltd.', 'Nelson', 'Susan', '4155551450', '5677 Strong St.', 'NULL', 'San Rafael', 'CA', '97562', 'USA', '1165', 210500.0), {'customerNumber': 0, 'customerName': 1, 'contactLastName': 2, 'contactFirstName': 3, 'phone': 4, 'addressLine1': 5, 'addressLine2': 6, 'city': 7, 'state': 8, 'postalCode': 9, 'country': 10, 'salesRepEmployeeNumber': 11, 'creditLimit': 12})\n",
      "Row((129, 'Mini Wheels Co.', 'Murphy', 'Julie', '6505555787', '5557 North Pendale Street', 'NULL', 'San Francisco', 'CA', '94217', 'USA', '1165', 64600.0), {'customerNumber': 0, 'customerName': 1, 'contactLastName': 2, 'contactFirstName': 3, 'phone': 4, 'addressLine1': 5, 'addressLine2': 6, 'city': 7, 'state': 8, 'postalCode': 9, 'country': 10, 'salesRepEmployeeNumber': 11, 'creditLimit': 12})\n",
      "Row((161, 'Technics Stores Inc.', 'Hashimoto', 'Juri', '6505556809', '9408 Furth Circle', 'NULL', 'Burlingame', 'CA', '94217', 'USA', '1165', 84600.0), {'customerNumber': 0, 'customerName': 1, 'contactLastName': 2, 'contactFirstName': 3, 'phone': 4, 'addressLine1': 5, 'addressLine2': 6, 'city': 7, 'state': 8, 'postalCode': 9, 'country': 10, 'salesRepEmployeeNumber': 11, 'creditLimit': 12})\n",
      "Row((321, 'Corporate Gift Ideas Co.', 'Brown', 'Julie', '6505551386', '7734 Strong St.', 'NULL', 'San Francisco', 'CA', '94217', 'USA', '1165', 105000.0), {'customerNumber': 0, 'customerName': 1, 'contactLastName': 2, 'contactFirstName': 3, 'phone': 4, 'addressLine1': 5, 'addressLine2': 6, 'city': 7, 'state': 8, 'postalCode': 9, 'country': 10, 'salesRepEmployeeNumber': 11, 'creditLimit': 12})\n",
      "Row((450, 'The Sharp Gifts Warehouse', 'Frick', 'Sue', '4085553659', '3086 Ingle Ln.', 'NULL', 'San Jose', 'CA', '94217', 'USA', '1165', 77600.0), {'customerNumber': 0, 'customerName': 1, 'contactLastName': 2, 'contactFirstName': 3, 'phone': 4, 'addressLine1': 5, 'addressLine2': 6, 'city': 7, 'state': 8, 'postalCode': 9, 'country': 10, 'salesRepEmployeeNumber': 11, 'creditLimit': 12})\n"
     ]
    }
   ],
   "source": [
    "# Print results\n",
    "for row in results:\n",
    "    print(row)"
   ]
  },
  {
   "cell_type": "code",
   "execution_count": null,
   "metadata": {},
   "outputs": [],
   "source": []
  }
 ],
 "metadata": {
  "kernelspec": {
   "display_name": "Python 3",
   "language": "python",
   "name": "python3"
  },
  "language_info": {
   "codemirror_mode": {
    "name": "ipython",
    "version": 3
   },
   "file_extension": ".py",
   "mimetype": "text/x-python",
   "name": "python",
   "nbconvert_exporter": "python",
   "pygments_lexer": "ipython3",
   "version": "3.11.5"
  }
 },
 "nbformat": 4,
 "nbformat_minor": 2
}
